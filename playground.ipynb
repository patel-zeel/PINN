{
 "cells": [
  {
   "cell_type": "code",
   "execution_count": 57,
   "metadata": {},
   "outputs": [],
   "source": [
    "import os\n",
    "os.environ[\"CUDA_VISIBLE_DEVICES\"] = \"\"\n",
    "\n",
    "import scipy\n",
    "import numpy as np\n",
    "\n",
    "from nodepy import runge_kutta_method as rk"
   ]
  },
  {
   "cell_type": "code",
   "execution_count": 63,
   "metadata": {},
   "outputs": [
    {
     "name": "stdout",
     "output_type": "stream",
     "text": [
      "A:\n",
      "[[-1.37459667  1.         -0.        ]\n",
      " [-1.          0.         -1.        ]\n",
      " [ 0.          1.          0.17459667]]\n",
      "B:\n",
      "[0.27777778 0.44444444 0.27777778]\n",
      "C:\n",
      "[0.07513444 0.33333333 0.59153222]\n"
     ]
    }
   ],
   "source": [
    "import numpy as np\n",
    "from scipy.special import roots_legendre\n",
    "\n",
    "# Number of stages\n",
    "s = 3\n",
    "\n",
    "# Generate the roots and weights for the Gauss-Legendre quadrature rule\n",
    "x, w = roots_legendre(s)\n",
    "\n",
    "# Generate the A matrix\n",
    "A = np.zeros((s, s))\n",
    "for i in range(s):\n",
    "    for j in range(s):\n",
    "        if j == i:\n",
    "            A[i, j] = x[i] * (1 - x[i])\n",
    "        else:\n",
    "            A[i, j] = (x[i] + x[j]) / ((x[i] - x[j]) * (1 - x[i] * x[j]))\n",
    "\n",
    "# Generate the B and C vectors\n",
    "B = np.array([(w[i] / 2) for i in range(s)])\n",
    "C = np.array([((1 + x[i]) / 2) for i in range(s)])\n",
    "\n",
    "# Normalize the B and C vectors\n",
    "B /= np.sum(B)\n",
    "C /= np.sum(C)\n",
    "\n",
    "# Print the Butcher table\n",
    "print(\"A:\")\n",
    "print(A)\n",
    "print(\"B:\")\n",
    "print(B)\n",
    "print(\"C:\")\n",
    "print(C)"
   ]
  },
  {
   "cell_type": "code",
   "execution_count": null,
   "metadata": {},
   "outputs": [],
   "source": []
  }
 ],
 "metadata": {
  "kernelspec": {
   "display_name": "jax_gpu",
   "language": "python",
   "name": "python3"
  },
  "language_info": {
   "codemirror_mode": {
    "name": "ipython",
    "version": 3
   },
   "file_extension": ".py",
   "mimetype": "text/x-python",
   "name": "python",
   "nbconvert_exporter": "python",
   "pygments_lexer": "ipython3",
   "version": "3.9.12"
  },
  "orig_nbformat": 4
 },
 "nbformat": 4,
 "nbformat_minor": 2
}
